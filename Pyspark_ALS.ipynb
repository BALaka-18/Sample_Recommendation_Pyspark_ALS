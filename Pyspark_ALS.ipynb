{
  "nbformat": 4,
  "nbformat_minor": 0,
  "metadata": {
    "colab": {
      "name": "Pyspark_ALS.ipynb",
      "provenance": [],
      "collapsed_sections": [],
      "authorship_tag": "ABX9TyPsVksPzJWa+QvsIbI4bwVF",
      "include_colab_link": true
    },
    "kernelspec": {
      "name": "python3",
      "display_name": "Python 3"
    }
  },
  "cells": [
    {
      "cell_type": "markdown",
      "metadata": {
        "id": "view-in-github",
        "colab_type": "text"
      },
      "source": [
        "<a href=\"https://colab.research.google.com/github/BALaka-18/Sample_Recommendation_Pyspark_ALS/blob/master/Pyspark_ALS.ipynb\" target=\"_parent\"><img src=\"https://colab.research.google.com/assets/colab-badge.svg\" alt=\"Open In Colab\"/></a>"
      ]
    },
    {
      "cell_type": "markdown",
      "metadata": {
        "id": "v6c4rsTDOzTE",
        "colab_type": "text"
      },
      "source": [
        "#### Installing Apache Spark_2.4.5, Java_8, Hadoop_2.7."
      ]
    },
    {
      "cell_type": "code",
      "metadata": {
        "id": "90DGu5Es6U02",
        "colab_type": "code",
        "colab": {}
      },
      "source": [
        "!apt-get install openjdk-8-jdk-headless -qq > /dev/null\n",
        "!wget -q http://mirrors.viethosting.com/apache/spark/spark-2.4.5/spark-2.4.5-bin-hadoop2.7.tgz\n",
        "!tar xf spark-2.4.5-bin-hadoop2.7.tgz\n",
        "!pip install -q findspark"
      ],
      "execution_count": 0,
      "outputs": []
    },
    {
      "cell_type": "code",
      "metadata": {
        "id": "rZKh92dkBTdB",
        "colab_type": "code",
        "colab": {}
      },
      "source": [
        "import os\n",
        "os.environ[\"JAVA_HOME\"] = \"/usr/lib/jvm/java-8-openjdk-amd64\"\n",
        "os.environ[\"SPARK_HOME\"] = \"/content/spark-2.4.5-bin-hadoop2.7\""
      ],
      "execution_count": 0,
      "outputs": []
    },
    {
      "cell_type": "markdown",
      "metadata": {
        "id": "2F8r9nouPExr",
        "colab_type": "text"
      },
      "source": [
        "#### Importing the other libraries and mounting GDrive."
      ]
    },
    {
      "cell_type": "code",
      "metadata": {
        "id": "ASVlJFnvj-CG",
        "colab_type": "code",
        "colab": {}
      },
      "source": [
        "import pandas as pd\n",
        "from google.colab import drive"
      ],
      "execution_count": 0,
      "outputs": []
    },
    {
      "cell_type": "code",
      "metadata": {
        "id": "IzZ24gBjGogv",
        "colab_type": "code",
        "colab": {
          "base_uri": "https://localhost:8080/",
          "height": 124
        },
        "outputId": "96ab2779-573a-45c1-b762-9e864e8492de"
      },
      "source": [
        "drive.mount('/content/gdrive')"
      ],
      "execution_count": 13,
      "outputs": [
        {
          "output_type": "stream",
          "text": [
            "Go to this URL in a browser: https://accounts.google.com/o/oauth2/auth?client_id=947318989803-6bn6qk8qdgf4n4g3pfee6491hc0brc4i.apps.googleusercontent.com&redirect_uri=urn%3aietf%3awg%3aoauth%3a2.0%3aoob&response_type=code&scope=email%20https%3a%2f%2fwww.googleapis.com%2fauth%2fdocs.test%20https%3a%2f%2fwww.googleapis.com%2fauth%2fdrive%20https%3a%2f%2fwww.googleapis.com%2fauth%2fdrive.photos.readonly%20https%3a%2f%2fwww.googleapis.com%2fauth%2fpeopleapi.readonly\n",
            "\n",
            "Enter your authorization code:\n",
            "··········\n",
            "Mounted at /content/gdrive\n"
          ],
          "name": "stdout"
        }
      ]
    },
    {
      "cell_type": "markdown",
      "metadata": {
        "id": "AqP1rPIzP50L",
        "colab_type": "text"
      },
      "source": [
        "#### Initiating Spark and starting the session. After that, the data is read."
      ]
    },
    {
      "cell_type": "code",
      "metadata": {
        "id": "qI23KrMku0pD",
        "colab_type": "code",
        "colab": {}
      },
      "source": [
        "import findspark\n",
        "findspark.init()     # Initializing\n",
        "from pyspark.sql import SparkSession          # for running a session"
      ],
      "execution_count": 0,
      "outputs": []
    },
    {
      "cell_type": "markdown",
      "metadata": {
        "id": "YRPfCyjvS9jV",
        "colab_type": "text"
      },
      "source": [
        "#### STEPS TO READ A FILE AS CSV IN SPARK\n",
        "\n",
        "1st PART \n",
        "\n",
        "1. Opens a session\n",
        "2. Build\n",
        "3. Name of project\n",
        "4. Called to create/build the project\n",
        "\n",
        "2nd PART \n",
        "\n",
        "1. Format to be read in\n",
        "2. Explicitly mention delimiter if it's something else than ','\n",
        "3. header = true, if you want the first row to be the column headers\n",
        "4. File source"
      ]
    },
    {
      "cell_type": "code",
      "metadata": {
        "id": "4LWiHzXrBiLc",
        "colab_type": "code",
        "colab": {
          "base_uri": "https://localhost:8080/",
          "height": 416
        },
        "outputId": "5abf78ea-f82b-4086-bad2-1538db170a22"
      },
      "source": [
        "spark = SparkSession \\\n",
        "      .builder \\\n",
        "      .appName('ALS_Recommendation') \\\n",
        "      .getOrCreate()         \n",
        "\n",
        "rawData = spark.read\\\n",
        "               .format('csv')\\\n",
        "               .option('delimiter', '\\t')\\\n",
        "               .option('header', 'true')\\\n",
        "               .load('/content/gdrive/My Drive/user_artists.dat')\n",
        "\n",
        "rawData.toPandas().head(90)       # Turn to a pandas DataFrame"
      ],
      "execution_count": 20,
      "outputs": [
        {
          "output_type": "execute_result",
          "data": {
            "text/html": [
              "<div>\n",
              "<style scoped>\n",
              "    .dataframe tbody tr th:only-of-type {\n",
              "        vertical-align: middle;\n",
              "    }\n",
              "\n",
              "    .dataframe tbody tr th {\n",
              "        vertical-align: top;\n",
              "    }\n",
              "\n",
              "    .dataframe thead th {\n",
              "        text-align: right;\n",
              "    }\n",
              "</style>\n",
              "<table border=\"1\" class=\"dataframe\">\n",
              "  <thead>\n",
              "    <tr style=\"text-align: right;\">\n",
              "      <th></th>\n",
              "      <th>userID</th>\n",
              "      <th>artistID</th>\n",
              "      <th>weight</th>\n",
              "    </tr>\n",
              "  </thead>\n",
              "  <tbody>\n",
              "    <tr>\n",
              "      <th>0</th>\n",
              "      <td>2</td>\n",
              "      <td>51</td>\n",
              "      <td>13883</td>\n",
              "    </tr>\n",
              "    <tr>\n",
              "      <th>1</th>\n",
              "      <td>2</td>\n",
              "      <td>52</td>\n",
              "      <td>11690</td>\n",
              "    </tr>\n",
              "    <tr>\n",
              "      <th>2</th>\n",
              "      <td>2</td>\n",
              "      <td>53</td>\n",
              "      <td>11351</td>\n",
              "    </tr>\n",
              "    <tr>\n",
              "      <th>3</th>\n",
              "      <td>2</td>\n",
              "      <td>54</td>\n",
              "      <td>10300</td>\n",
              "    </tr>\n",
              "    <tr>\n",
              "      <th>4</th>\n",
              "      <td>2</td>\n",
              "      <td>55</td>\n",
              "      <td>8983</td>\n",
              "    </tr>\n",
              "    <tr>\n",
              "      <th>...</th>\n",
              "      <td>...</td>\n",
              "      <td>...</td>\n",
              "      <td>...</td>\n",
              "    </tr>\n",
              "    <tr>\n",
              "      <th>85</th>\n",
              "      <td>3</td>\n",
              "      <td>136</td>\n",
              "      <td>76</td>\n",
              "    </tr>\n",
              "    <tr>\n",
              "      <th>86</th>\n",
              "      <td>3</td>\n",
              "      <td>137</td>\n",
              "      <td>75</td>\n",
              "    </tr>\n",
              "    <tr>\n",
              "      <th>87</th>\n",
              "      <td>3</td>\n",
              "      <td>138</td>\n",
              "      <td>72</td>\n",
              "    </tr>\n",
              "    <tr>\n",
              "      <th>88</th>\n",
              "      <td>3</td>\n",
              "      <td>139</td>\n",
              "      <td>72</td>\n",
              "    </tr>\n",
              "    <tr>\n",
              "      <th>89</th>\n",
              "      <td>3</td>\n",
              "      <td>140</td>\n",
              "      <td>71</td>\n",
              "    </tr>\n",
              "  </tbody>\n",
              "</table>\n",
              "<p>90 rows × 3 columns</p>\n",
              "</div>"
            ],
            "text/plain": [
              "   userID artistID weight\n",
              "0       2       51  13883\n",
              "1       2       52  11690\n",
              "2       2       53  11351\n",
              "3       2       54  10300\n",
              "4       2       55   8983\n",
              "..    ...      ...    ...\n",
              "85      3      136     76\n",
              "86      3      137     75\n",
              "87      3      138     72\n",
              "88      3      139     72\n",
              "89      3      140     71\n",
              "\n",
              "[90 rows x 3 columns]"
            ]
          },
          "metadata": {
            "tags": []
          },
          "execution_count": 20
        }
      ]
    },
    {
      "cell_type": "code",
      "metadata": {
        "id": "9DUWmUPXHjQz",
        "colab_type": "code",
        "colab": {
          "base_uri": "https://localhost:8080/",
          "height": 34
        },
        "outputId": "d0b93166-9ee0-473b-d48f-fda784d15b1d"
      },
      "source": [
        "# Change type to 'int'\n",
        "\n",
        "from pyspark.sql.functions import col\n",
        "\n",
        "data = rawData.select(col('userID').cast('int'),\n",
        "                      col('artistID').cast('int'),\n",
        "                      col('weight').cast('int')\n",
        "                      )\n",
        "data"
      ],
      "execution_count": 23,
      "outputs": [
        {
          "output_type": "execute_result",
          "data": {
            "text/plain": [
              "DataFrame[userID: int, artistID: int, weight: int]"
            ]
          },
          "metadata": {
            "tags": []
          },
          "execution_count": 23
        }
      ]
    },
    {
      "cell_type": "markdown",
      "metadata": {
        "id": "mT6COHkAYgLg",
        "colab_type": "text"
      },
      "source": [
        "#### Normalizing the Weights (Number of times an user played a song)"
      ]
    },
    {
      "cell_type": "code",
      "metadata": {
        "id": "EkgqGlzBV4ZB",
        "colab_type": "code",
        "colab": {
          "base_uri": "https://localhost:8080/",
          "height": 202
        },
        "outputId": "3345afe7-5570-4724-9c68-40eeca354fe4"
      },
      "source": [
        "from pyspark.sql.functions import col, mean, stddev\n",
        "\n",
        "df = data.select(mean('weight').alias('mean_weight'),\n",
        "                 stddev('weight').alias('stddev_weight'))\\\n",
        "          .crossJoin(data)\\\n",
        "          .withColumn('weight_scaled' , \n",
        "                      (col('weight') - col('mean_weight')) / col('stddev_weight'))\n",
        "          \n",
        "df.toPandas().head()"
      ],
      "execution_count": 25,
      "outputs": [
        {
          "output_type": "execute_result",
          "data": {
            "text/html": [
              "<div>\n",
              "<style scoped>\n",
              "    .dataframe tbody tr th:only-of-type {\n",
              "        vertical-align: middle;\n",
              "    }\n",
              "\n",
              "    .dataframe tbody tr th {\n",
              "        vertical-align: top;\n",
              "    }\n",
              "\n",
              "    .dataframe thead th {\n",
              "        text-align: right;\n",
              "    }\n",
              "</style>\n",
              "<table border=\"1\" class=\"dataframe\">\n",
              "  <thead>\n",
              "    <tr style=\"text-align: right;\">\n",
              "      <th></th>\n",
              "      <th>mean_weight</th>\n",
              "      <th>stddev_weight</th>\n",
              "      <th>userID</th>\n",
              "      <th>artistID</th>\n",
              "      <th>weight</th>\n",
              "      <th>weight_scaled</th>\n",
              "    </tr>\n",
              "  </thead>\n",
              "  <tbody>\n",
              "    <tr>\n",
              "      <th>0</th>\n",
              "      <td>745.24393</td>\n",
              "      <td>3751.32208</td>\n",
              "      <td>2</td>\n",
              "      <td>51</td>\n",
              "      <td>13883</td>\n",
              "      <td>3.502167</td>\n",
              "    </tr>\n",
              "    <tr>\n",
              "      <th>1</th>\n",
              "      <td>745.24393</td>\n",
              "      <td>3751.32208</td>\n",
              "      <td>2</td>\n",
              "      <td>52</td>\n",
              "      <td>11690</td>\n",
              "      <td>2.917573</td>\n",
              "    </tr>\n",
              "    <tr>\n",
              "      <th>2</th>\n",
              "      <td>745.24393</td>\n",
              "      <td>3751.32208</td>\n",
              "      <td>2</td>\n",
              "      <td>53</td>\n",
              "      <td>11351</td>\n",
              "      <td>2.827205</td>\n",
              "    </tr>\n",
              "    <tr>\n",
              "      <th>3</th>\n",
              "      <td>745.24393</td>\n",
              "      <td>3751.32208</td>\n",
              "      <td>2</td>\n",
              "      <td>54</td>\n",
              "      <td>10300</td>\n",
              "      <td>2.547037</td>\n",
              "    </tr>\n",
              "    <tr>\n",
              "      <th>4</th>\n",
              "      <td>745.24393</td>\n",
              "      <td>3751.32208</td>\n",
              "      <td>2</td>\n",
              "      <td>55</td>\n",
              "      <td>8983</td>\n",
              "      <td>2.195961</td>\n",
              "    </tr>\n",
              "  </tbody>\n",
              "</table>\n",
              "</div>"
            ],
            "text/plain": [
              "   mean_weight  stddev_weight  userID  artistID  weight  weight_scaled\n",
              "0    745.24393     3751.32208       2        51   13883       3.502167\n",
              "1    745.24393     3751.32208       2        52   11690       2.917573\n",
              "2    745.24393     3751.32208       2        53   11351       2.827205\n",
              "3    745.24393     3751.32208       2        54   10300       2.547037\n",
              "4    745.24393     3751.32208       2        55    8983       2.195961"
            ]
          },
          "metadata": {
            "tags": []
          },
          "execution_count": 25
        }
      ]
    },
    {
      "cell_type": "markdown",
      "metadata": {
        "id": "03BtAXH2bbFI",
        "colab_type": "text"
      },
      "source": [
        "###### IMPLEMENTING PRE-BUILT ALS ALGORITHM FOR RECOMMENDATION"
      ]
    },
    {
      "cell_type": "code",
      "metadata": {
        "id": "zE1bndN5bNDG",
        "colab_type": "code",
        "colab": {}
      },
      "source": [
        "(train,test) = df.randomSplit([0.8,0.2])   # Train-test split\n",
        "\n",
        "from pyspark.ml.recommendation import ALS\n",
        "\n",
        "als = ALS(maxIter=10,\n",
        "          regParam=0.1,\n",
        "          userCol='userID',\n",
        "          itemCol='artistID',\n",
        "          implicitPrefs=True,\n",
        "          ratingCol='weight_scaled',\n",
        "          coldStartStrategy='drop')\n",
        "\n",
        "model = als.fit(train)"
      ],
      "execution_count": 0,
      "outputs": []
    },
    {
      "cell_type": "code",
      "metadata": {
        "id": "SBNuCpG9cPfv",
        "colab_type": "code",
        "colab": {
          "base_uri": "https://localhost:8080/",
          "height": 202
        },
        "outputId": "10c4d039-1248-4323-f7e2-474398b9346f"
      },
      "source": [
        "pred = model.transform(test)\n",
        "pred.toPandas().head()"
      ],
      "execution_count": 29,
      "outputs": [
        {
          "output_type": "execute_result",
          "data": {
            "text/html": [
              "<div>\n",
              "<style scoped>\n",
              "    .dataframe tbody tr th:only-of-type {\n",
              "        vertical-align: middle;\n",
              "    }\n",
              "\n",
              "    .dataframe tbody tr th {\n",
              "        vertical-align: top;\n",
              "    }\n",
              "\n",
              "    .dataframe thead th {\n",
              "        text-align: right;\n",
              "    }\n",
              "</style>\n",
              "<table border=\"1\" class=\"dataframe\">\n",
              "  <thead>\n",
              "    <tr style=\"text-align: right;\">\n",
              "      <th></th>\n",
              "      <th>mean_weight</th>\n",
              "      <th>stddev_weight</th>\n",
              "      <th>userID</th>\n",
              "      <th>artistID</th>\n",
              "      <th>weight</th>\n",
              "      <th>weight_scaled</th>\n",
              "      <th>prediction</th>\n",
              "    </tr>\n",
              "  </thead>\n",
              "  <tbody>\n",
              "    <tr>\n",
              "      <th>0</th>\n",
              "      <td>745.24393</td>\n",
              "      <td>3751.32208</td>\n",
              "      <td>1137</td>\n",
              "      <td>463</td>\n",
              "      <td>77</td>\n",
              "      <td>-0.178136</td>\n",
              "      <td>0.000000</td>\n",
              "    </tr>\n",
              "    <tr>\n",
              "      <th>1</th>\n",
              "      <td>745.24393</td>\n",
              "      <td>3751.32208</td>\n",
              "      <td>306</td>\n",
              "      <td>463</td>\n",
              "      <td>452</td>\n",
              "      <td>-0.078171</td>\n",
              "      <td>0.000000</td>\n",
              "    </tr>\n",
              "    <tr>\n",
              "      <th>2</th>\n",
              "      <td>745.24393</td>\n",
              "      <td>3751.32208</td>\n",
              "      <td>859</td>\n",
              "      <td>463</td>\n",
              "      <td>243</td>\n",
              "      <td>-0.133885</td>\n",
              "      <td>0.012615</td>\n",
              "    </tr>\n",
              "    <tr>\n",
              "      <th>3</th>\n",
              "      <td>745.24393</td>\n",
              "      <td>3751.32208</td>\n",
              "      <td>578</td>\n",
              "      <td>471</td>\n",
              "      <td>152</td>\n",
              "      <td>-0.158143</td>\n",
              "      <td>0.031211</td>\n",
              "    </tr>\n",
              "    <tr>\n",
              "      <th>4</th>\n",
              "      <td>745.24393</td>\n",
              "      <td>3751.32208</td>\n",
              "      <td>1456</td>\n",
              "      <td>471</td>\n",
              "      <td>825</td>\n",
              "      <td>0.021261</td>\n",
              "      <td>0.008705</td>\n",
              "    </tr>\n",
              "  </tbody>\n",
              "</table>\n",
              "</div>"
            ],
            "text/plain": [
              "   mean_weight  stddev_weight  userID  ...  weight  weight_scaled  prediction\n",
              "0    745.24393     3751.32208    1137  ...      77      -0.178136    0.000000\n",
              "1    745.24393     3751.32208     306  ...     452      -0.078171    0.000000\n",
              "2    745.24393     3751.32208     859  ...     243      -0.133885    0.012615\n",
              "3    745.24393     3751.32208     578  ...     152      -0.158143    0.031211\n",
              "4    745.24393     3751.32208    1456  ...     825       0.021261    0.008705\n",
              "\n",
              "[5 rows x 7 columns]"
            ]
          },
          "metadata": {
            "tags": []
          },
          "execution_count": 29
        }
      ]
    },
    {
      "cell_type": "code",
      "metadata": {
        "id": "mcyk7YYFcpS3",
        "colab_type": "code",
        "colab": {
          "base_uri": "https://localhost:8080/",
          "height": 294
        },
        "outputId": "abb4af40-1fe1-4374-f690-ace6c9f37bdf"
      },
      "source": [
        "pred_new = pred.select('weight_scaled', 'prediction').toPandas()\n",
        "pred_new.describe()"
      ],
      "execution_count": 30,
      "outputs": [
        {
          "output_type": "execute_result",
          "data": {
            "text/html": [
              "<div>\n",
              "<style scoped>\n",
              "    .dataframe tbody tr th:only-of-type {\n",
              "        vertical-align: middle;\n",
              "    }\n",
              "\n",
              "    .dataframe tbody tr th {\n",
              "        vertical-align: top;\n",
              "    }\n",
              "\n",
              "    .dataframe thead th {\n",
              "        text-align: right;\n",
              "    }\n",
              "</style>\n",
              "<table border=\"1\" class=\"dataframe\">\n",
              "  <thead>\n",
              "    <tr style=\"text-align: right;\">\n",
              "      <th></th>\n",
              "      <th>weight_scaled</th>\n",
              "      <th>prediction</th>\n",
              "    </tr>\n",
              "  </thead>\n",
              "  <tbody>\n",
              "    <tr>\n",
              "      <th>count</th>\n",
              "      <td>16211.000000</td>\n",
              "      <td>16211.000000</td>\n",
              "    </tr>\n",
              "    <tr>\n",
              "      <th>mean</th>\n",
              "      <td>0.010592</td>\n",
              "      <td>0.043121</td>\n",
              "    </tr>\n",
              "    <tr>\n",
              "      <th>std</th>\n",
              "      <td>1.046301</td>\n",
              "      <td>0.101711</td>\n",
              "    </tr>\n",
              "    <tr>\n",
              "      <th>min</th>\n",
              "      <td>-0.198395</td>\n",
              "      <td>-0.196088</td>\n",
              "    </tr>\n",
              "    <tr>\n",
              "      <th>25%</th>\n",
              "      <td>-0.166673</td>\n",
              "      <td>0.000000</td>\n",
              "    </tr>\n",
              "    <tr>\n",
              "      <th>50%</th>\n",
              "      <td>-0.123222</td>\n",
              "      <td>0.002460</td>\n",
              "    </tr>\n",
              "    <tr>\n",
              "      <th>75%</th>\n",
              "      <td>-0.025389</td>\n",
              "      <td>0.036711</td>\n",
              "    </tr>\n",
              "    <tr>\n",
              "      <th>max</th>\n",
              "      <td>85.297863</td>\n",
              "      <td>0.972790</td>\n",
              "    </tr>\n",
              "  </tbody>\n",
              "</table>\n",
              "</div>"
            ],
            "text/plain": [
              "       weight_scaled    prediction\n",
              "count   16211.000000  16211.000000\n",
              "mean        0.010592      0.043121\n",
              "std         1.046301      0.101711\n",
              "min        -0.198395     -0.196088\n",
              "25%        -0.166673      0.000000\n",
              "50%        -0.123222      0.002460\n",
              "75%        -0.025389      0.036711\n",
              "max        85.297863      0.972790"
            ]
          },
          "metadata": {
            "tags": []
          },
          "execution_count": 30
        }
      ]
    },
    {
      "cell_type": "code",
      "metadata": {
        "id": "2i1bcRxjd1_M",
        "colab_type": "code",
        "colab": {}
      },
      "source": [
        ""
      ],
      "execution_count": 0,
      "outputs": []
    }
  ]
}